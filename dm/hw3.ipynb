{
 "cells": [
  {
   "cell_type": "code",
   "execution_count": 21,
   "metadata": {
    "collapsed": false
   },
   "outputs": [],
   "source": [
    "from py2neo import Node, Relationship, authenticate, Graph\n",
    "\n",
    "# set up authentication parameters\n",
    "authenticate(\"localhost:7474\", \"neo4j\", \"neo4j1\")\n",
    "\n",
    "# connect to authenticated graph database\n",
    "db = Graph(\"localhost:7474\")\n",
    "\n",
    "# create alice and bob"
   ]
  },
  {
   "cell_type": "code",
   "execution_count": null,
   "metadata": {
    "collapsed": true
   },
   "outputs": [],
   "source": [
    "\"/var/lib/neo4j/import/\"\n",
    "\"sudo rm -rf /var/lib/neo4j/data/*\""
   ]
  },
  {
   "cell_type": "code",
   "execution_count": 19,
   "metadata": {
    "collapsed": false
   },
   "outputs": [],
   "source": [
    "importActors = '''USING PERIODIC COMMIT\n",
    "LOAD CSV WITH HEADERS FROM \"file:/actors.csv\" AS row\n",
    "CREATE (:Act {Actor_Id: row.Actor_Id, Name: row.Name});'''\n",
    "\n",
    "importFilms = '''USING PERIODIC COMMIT\n",
    "LOAD CSV WITH HEADERS FROM \"file:/film.csv\" AS row\n",
    "CREATE (:Film {\n",
    "DVD_Title:row.DVD_Title, \n",
    "Studio: row.Studio,\n",
    "Released: row.Released,\n",
    "Status: row.Status,\n",
    "Sound: row.Sound,\n",
    "Version: row.Version,\n",
    "Price: toInt(row.Price),\n",
    "Rating: toInt(row.Rating),\n",
    "Year: toInt(row.Year),\n",
    "Genre: row.Genre,\n",
    "Aspect: row.Aspect,\n",
    "UPC: row.UPC,\n",
    "DVD_Release: row.DVD_Release,\n",
    "Film_Id: row.Film_Id,\n",
    "Timestamp: row.Timestamp});'''\n",
    "\n",
    "importDirectors = '''USING PERIODIC COMMIT\n",
    "LOAD CSV WITH HEADERS FROM \"file:/directors.csv\" AS row\n",
    "CREATE (:Director {Director_Id: row.Director_Id, Name: row.Name});'''"
   ]
  },
  {
   "cell_type": "code",
   "execution_count": 22,
   "metadata": {
    "collapsed": false,
    "scrolled": true
   },
   "outputs": [
    {
     "data": {
      "text/plain": [
       "<py2neo.database.Cursor at 0x7f312934b790>"
      ]
     },
     "execution_count": 22,
     "metadata": {},
     "output_type": "execute_result"
    }
   ],
   "source": [
    "db.run(importActors)\n",
    "db.run(\"\"\"CREATE INDEX ON :Act(Actor_Id)\"\"\")"
   ]
  },
  {
   "cell_type": "code",
   "execution_count": 23,
   "metadata": {
    "collapsed": false
   },
   "outputs": [
    {
     "data": {
      "text/plain": [
       "<py2neo.database.Cursor at 0x7f312934b5d0>"
      ]
     },
     "execution_count": 23,
     "metadata": {},
     "output_type": "execute_result"
    }
   ],
   "source": [
    "db.run(importFilms)\n",
    "db.run(\"\"\"CREATE INDEX ON :Film(Film_Id)\"\"\")"
   ]
  },
  {
   "cell_type": "code",
   "execution_count": 25,
   "metadata": {
    "collapsed": false
   },
   "outputs": [
    {
     "data": {
      "text/plain": [
       "<py2neo.database.Cursor at 0x7f31293bb810>"
      ]
     },
     "execution_count": 25,
     "metadata": {},
     "output_type": "execute_result"
    }
   ],
   "source": [
    "db.run(\"\"\"MATCH (n:Film)\n",
    "WITH split(n.DVD_Release, '/') as splitted, n\n",
    "SET n += {Month: toInt(splitted[0]), Day: toInt(splitted[1]), Year: toInt(splitted[2])}\n",
    "SET n.DVD_Release = splitted[2]+splitted[0]+splitted[1]\"\"\")\n"
   ]
  },
  {
   "cell_type": "code",
   "execution_count": 26,
   "metadata": {
    "collapsed": false
   },
   "outputs": [
    {
     "data": {
      "text/plain": [
       "<py2neo.database.Cursor at 0x7f312934bd10>"
      ]
     },
     "execution_count": 26,
     "metadata": {},
     "output_type": "execute_result"
    }
   ],
   "source": [
    "db.run(importDirectors)\n",
    "db.run(\"\"\"CREATE INDEX ON :Director(Director_Id)\"\"\")"
   ]
  },
  {
   "cell_type": "code",
   "execution_count": 27,
   "metadata": {
    "collapsed": true
   },
   "outputs": [],
   "source": [
    "importA2F = \"\"\" \n",
    "USING PERIODIC COMMIT 50000\n",
    "LOAD CSV WITH HEADERS FROM \"file:/actor_to_film.csv\" AS row\n",
    "MATCH (a:Act {Actor_Id: row.Actor_Id}), (f:Film {Film_Id: row.Film_Id})\n",
    "CREATE (a)-[:ACTED]->(f)\"\"\"\n",
    "\n",
    "importD2F = \"\"\" \n",
    "USING PERIODIC COMMIT 50000\n",
    "LOAD CSV WITH HEADERS FROM \"file:/director_to_film.csv\" AS row\n",
    "MATCH (d:Director {Director_Id: row.Director_Id}), (f:Film {Film_Id: row.Film_Id})\n",
    "CREATE (d)-[:DIRECTED]->(f)\"\"\""
   ]
  },
  {
   "cell_type": "code",
   "execution_count": 28,
   "metadata": {
    "collapsed": false
   },
   "outputs": [
    {
     "data": {
      "text/plain": [
       "<py2neo.database.Cursor at 0x7f312934b6d0>"
      ]
     },
     "execution_count": 28,
     "metadata": {},
     "output_type": "execute_result"
    }
   ],
   "source": [
    "db.run(importA2F)\n",
    "db.run(importD2F)"
   ]
  },
  {
   "cell_type": "markdown",
   "metadata": {},
   "source": [
    "# QUERIES"
   ]
  },
  {
   "cell_type": "code",
   "execution_count": null,
   "metadata": {
    "collapsed": true
   },
   "outputs": [],
   "source": [
    "# QUERY 1 #\n",
    "## Info on a specific Actor works with a budget of 30$\n",
    "USE dm_hw1;\n",
    "SELECT F.DVD_Title, F.Studio, F.Sound, F.Version, F.Genre, F.Year, F.Price, F.UPC, F.Status\n",
    "FROM (SELECT df.DVD_id\n",
    "\t\tFROM actor_to_film AS df JOIN actors AS d ON df.Actor_id = d.Actor_id\n",
    "\t\tWHERE d.Name LIKE 'Jackson Samuel%') as D JOIN film F ON D.DVD_id = F.ID\n",
    "WHERE F.Price < 30;"
   ]
  },
  {
   "cell_type": "code",
   "execution_count": null,
   "metadata": {
    "collapsed": true
   },
   "outputs": [],
   "source": [
    "q1 = \"\"\"PROFILE MATCH (a:Act)-[:ACTED]-(f)\n",
    "WHERE \tf.Price > 30\n",
    "RETURN DISTINCT a LIMIT 20\"\"\""
   ]
  },
  {
   "cell_type": "code",
   "execution_count": null,
   "metadata": {
    "collapsed": true
   },
   "outputs": [],
   "source": [
    "# QUERY 2 #\n",
    "## All DVDs released during summer\n",
    "USE dm_hw1;\n",
    "SELECT DVD_Title, DVD_Release, Genre\n",
    "FROM film\n",
    "WHERE DVD_Release BETWEEN '6/1/' AND '9/31/'\n",
    "ORDER BY DVD_Release;"
   ]
  },
  {
   "cell_type": "code",
   "execution_count": null,
   "metadata": {
    "collapsed": true
   },
   "outputs": [],
   "source": [
    "q2 = \"\"\"MATCH (f:Film)\n",
    "WHERE f.Month >= 6 AND f.Month <= 9\n",
    "RETURN f.DVD_Title, f.Year, f.Month, f.Day, f.Genre\n",
    "ORDER BY f.DVD_Release \"\"\""
   ]
  },
  {
   "cell_type": "code",
   "execution_count": null,
   "metadata": {
    "collapsed": true
   },
   "outputs": [],
   "source": [
    "# QUERY 3 #\n",
    "## Number, greater than 10, of different Directors for each actor\n",
    "USE dm_hw1;\n",
    "SELECT DA.Actor_id, A.Name, DA.Count\n",
    "FROM (SELECT af.Actor_id, COUNT(*) as Count\n",
    "\t  FROM director_to_film AS df JOIN actor_to_film AS af ON df.DVD_id = af.DVD_id\n",
    "      GROUP BY af.Actor_id) as DA, actors as A\n",
    "WHERE DA.Actor_id = A.Actor_id\n",
    "HAVING DA.Count > 10\n",
    "ORDER BY DA.Count DESC;"
   ]
  },
  {
   "cell_type": "code",
   "execution_count": null,
   "metadata": {
    "collapsed": true
   },
   "outputs": [],
   "source": [
    "q3 = \"\"\" \n",
    "MATCH p=(a)-[:ACTED]-(f)-[:DIRECTED]-(d)\n",
    "WITH COUNT(a) as Collaborations, a \n",
    "WHERE Collaborations > 100\n",
    "RETURN a.Name, Collaborations  \n",
    "ORDER BY Collaboration DESC\"\"\""
   ]
  },
  {
   "cell_type": "code",
   "execution_count": null,
   "metadata": {
    "collapsed": true
   },
   "outputs": [],
   "source": [
    "# QUERY 4 #\n",
    "## All the DVDs that have an actor named Lee or similar\n",
    "\n",
    "USE dm_hw1;\n",
    "SELECT F.DVD_Title, F.Price, F.Genre, F.Version as Format\n",
    "FROM film as F \n",
    "WHERE F.ID IN (SELECT D.DVD_id\n",
    "\t\t\t     FROM actor_to_film as D\n",
    "                 WHERE D.Actor_id IN (SELECT A.Actor_id\n",
    "\t\t\t\t\t\t\t\t\t  FROM actors as A\n",
    "                                      WHERE A.Name LIKE 'Lee%'));"
   ]
  },
  {
   "cell_type": "code",
   "execution_count": null,
   "metadata": {
    "collapsed": true
   },
   "outputs": [],
   "source": [
    "q4 = \"\"\"MATCH (a:Act)\n",
    "WHERE a.Name CONTAINS \"Lee\"\n",
    "MATCH (a)-[:ACTED]->(f) \n",
    "RETURN f.DVD_Title, f.Price, f.Genre, f.Version \"\"\""
   ]
  },
  {
   "cell_type": "code",
   "execution_count": null,
   "metadata": {
    "collapsed": true
   },
   "outputs": [],
   "source": [
    "# QUERY 5 #\n",
    "# W/O VIEW #\n",
    "## Out of productions DVD on 50% sale\n",
    "USE dm_hw1;\n",
    "SELECT DVD_Title, Price, Status, ROUND(0.5*Price, 2) AS Sales\n",
    "FROM film\n",
    "WHERE Status = 'Discontinued';\n"
   ]
  },
  {
   "cell_type": "code",
   "execution_count": null,
   "metadata": {
    "collapsed": true
   },
   "outputs": [],
   "source": [
    "q5 = \"\"\"MATCH (f:Film {Status : \"Discontinued\"})\n",
    "RETURN f.DVD_Title, f.Price, f.Status, ROUND(0.5*f.Price) AS Sales \"\"\""
   ]
  },
  {
   "cell_type": "code",
   "execution_count": null,
   "metadata": {
    "collapsed": true
   },
   "outputs": [],
   "source": [
    "# QUERY 6 #\n",
    "# W/O VIEW & REFORMULATION\n",
    "## All the DVDs that have an actor named Lee or similar \n",
    "SELECT F.DVD_Title, F.Price, F.Genre, F.Version as Format\n",
    "FROM film as F \n",
    "WHERE F.ID IN (SELECT D.DVD_id\n",
    "\t\t\t     FROM actor_to_film as D\n",
    "                 WHERE D.Actor_id IN (SELECT A.Actor_id\n",
    "\t\t\t\t\t\t\t\t\t  FROM actors as A\n",
    "                                      WHERE A.Name LIKE 'Lee%'));\n",
    "                                      \n",
    "# WITH VIEW & REFORMULATION\n",
    "## All the DVDs that have an actor named Lee or similar\n",
    "SELECT F.DVD_Title, F.Price, F.Genre, F.Version as Format\n",
    "FROM film as F, Lee\n",
    "WHERE F.ID IN (Lee.DVD_id);"
   ]
  },
  {
   "cell_type": "code",
   "execution_count": null,
   "metadata": {
    "collapsed": true
   },
   "outputs": [],
   "source": [
    "q6 = \"\"\"MATCH (a:Act)\n",
    "WHERE a.Name CONTAINS \"Lee\"\n",
    "MATCH (a)-[:ACTED]->(f) \n",
    "RETURN f.DVD_Title, f.Price, f.Genre, f.Version  \"\"\""
   ]
  }
 ],
 "metadata": {
  "kernelspec": {
   "display_name": "Python 2",
   "language": "python",
   "name": "python2"
  },
  "language_info": {
   "codemirror_mode": {
    "name": "ipython",
    "version": 2
   },
   "file_extension": ".py",
   "mimetype": "text/x-python",
   "name": "python",
   "nbconvert_exporter": "python",
   "pygments_lexer": "ipython2",
   "version": "2.7.13"
  }
 },
 "nbformat": 4,
 "nbformat_minor": 2
}
